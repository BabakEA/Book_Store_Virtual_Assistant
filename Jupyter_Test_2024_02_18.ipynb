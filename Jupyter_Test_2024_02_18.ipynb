{
 "cells": [
  {
   "cell_type": "markdown",
   "id": "c48ddb56",
   "metadata": {},
   "source": [
    "# Loacl Test \n",
    "- Import Library "
   ]
  },
  {
   "cell_type": "code",
   "execution_count": 6,
   "id": "712e55c3",
   "metadata": {},
   "outputs": [],
   "source": [
    "from Witcher.Book_Store import *"
   ]
  },
  {
   "cell_type": "markdown",
   "id": "71e30193",
   "metadata": {},
   "source": [
    "## Initialize the Model"
   ]
  },
  {
   "cell_type": "code",
   "execution_count": 14,
   "id": "26858d14",
   "metadata": {},
   "outputs": [],
   "source": [
    "Data_base=Data_Base()\n",
    "Data_base._create_database_()\n",
    "Chatbot=Vector_Dataset_Generation(Path=\"./Data/booksummaries.txt\",Local_Data=\"./Chroma_new/\",Log_Databse=Data_base)"
   ]
  },
  {
   "cell_type": "markdown",
   "id": "2478cc37",
   "metadata": {},
   "source": [
    "#### test the given Senario: "
   ]
  },
  {
   "cell_type": "code",
   "execution_count": 15,
   "id": "c6bb067d",
   "metadata": {},
   "outputs": [],
   "source": [
    "Story_Point=[\"Can you recommend a book on farm animal\",\n",
    "             \"can you tell me more about 'Punk Farm'\",\n",
    "            \"How can I purchase this book?\",\n",
    "             \"That would be great, thanks!\"]\n",
    "def _Chat_test(ID:int):\n",
    "    print(Story_Point[ID])\n",
    "    return(Chatbot._Call_(Question=Story_Point[ID],User_ID=\"Babak_EA\"))"
   ]
  },
  {
   "cell_type": "markdown",
   "id": "2f3839d3",
   "metadata": {},
   "source": [
    "# Q1\n",
    "- Ask tofind some books"
   ]
  },
  {
   "cell_type": "code",
   "execution_count": 16,
   "id": "e64982c2",
   "metadata": {},
   "outputs": [
    {
     "name": "stdout",
     "output_type": "stream",
     "text": [
      "Can you recommend a book on farm animal\n"
     ]
    },
    {
     "data": {
      "text/plain": [
       "'[\\'Certainly! For beginners, I recommend \"Punk Farm\" by Jarrett Krosoczka, a fun children\"s book about farm animals who form a rock band and perform punk music. For a more advanced read, I suggest \"Animal Farm\" by George Orwell, a classic satire that explores political themes through a story about farm animals revolting against their human owner.If you would like more information on any of these books, feel free to ask!\\']'"
      ]
     },
     "execution_count": 16,
     "metadata": {},
     "output_type": "execute_result"
    }
   ],
   "source": [
    "_Chat_test(ID=0)"
   ]
  },
  {
   "cell_type": "markdown",
   "id": "931ee8a4",
   "metadata": {},
   "source": [
    "# Q2\n",
    "- selects a book and ask for more information"
   ]
  },
  {
   "cell_type": "code",
   "execution_count": 17,
   "id": "47ed981d",
   "metadata": {},
   "outputs": [
    {
     "name": "stdout",
     "output_type": "stream",
     "text": [
      "can you tell me more about 'Punk Farm'\n"
     ]
    },
    {
     "data": {
      "text/plain": [
       "\"{'LLM_response': ['Krosoczkas book Punk Farm follows the story of five farm animals – Sheep, Pig, Chicken, Goat, and Cow – who form an underground rock band and perform a punk cover of Old MacDonald had a Farm while Farmer Joe is asleep.'], 'Book_Titles': ['Punk Farm']}\""
      ]
     },
     "execution_count": 17,
     "metadata": {},
     "output_type": "execute_result"
    }
   ],
   "source": [
    "_Chat_test(ID=1)"
   ]
  },
  {
   "cell_type": "markdown",
   "id": "914b5bfc",
   "metadata": {},
   "source": [
    "# Q3\n",
    "- asking about the purchasing policy and methods"
   ]
  },
  {
   "cell_type": "code",
   "execution_count": 18,
   "id": "16fd96cd",
   "metadata": {},
   "outputs": [
    {
     "name": "stdout",
     "output_type": "stream",
     "text": [
      "How can I purchase this book?\n"
     ]
    },
    {
     "data": {
      "text/plain": [
       "'[\\'Certainly! For beginners, I recommend \"Punk Farm\" by Jarrett Krosoczka, a fun children\"s book about farm animals who form a rock band and perform punk music. For a more advanced read, I suggest \"Animal Farm\" by George Orwell, a classic satire that explores political themes through a story about farm animals revolting against their human owner.If you would like more information on any of these books, feel free to ask!\\', \\'Certainly! For beginners, I recommend \"Codex\" by Lev Grossman. The novel is about a young banker who becomes involved in a mysterious ancient codex and a strange computer game.If you\"re looking for something more advanced, \"Dragonology: The Complete Book of Dragons\" by Dugald Steer is an excellent choice. It delves into the world of dragons, including their species, habitats, and how to interact with them.Would you like more information on any of these books?\\']'"
      ]
     },
     "execution_count": 18,
     "metadata": {},
     "output_type": "execute_result"
    }
   ],
   "source": [
    "_Chat_test(ID=2)"
   ]
  },
  {
   "cell_type": "markdown",
   "id": "a7486c74",
   "metadata": {},
   "source": [
    "# Q4\n",
    "- confirming the purchase and end of the discussion\n",
    "- get the recommendation"
   ]
  },
  {
   "cell_type": "code",
   "execution_count": 20,
   "id": "b8efb17a",
   "metadata": {},
   "outputs": [
    {
     "name": "stdout",
     "output_type": "stream",
     "text": [
      "That would be great, thanks!\n"
     ]
    },
    {
     "data": {
      "text/plain": [
       "{'Chatbot': \"It was a pleasure working with you 'Babak_EA'. \\n                Is there anything else I can help you with?\\n                By the way, as you liked the 'Punk Farm', \\n                you may also want to take a look at the following masterpieces:\",\n",
       " 'Flashfire': 'A coalition of lesser worlds secedes from the Confederation, sparking a bloody riot on Ravenette as they declare war, only to face unexpected resistance from General Billie and the 34th FIST.',\n",
       " 'The Year of Intelligent Tigers': 'The Doctor\"s companions must navigate a chaotic alien world plagued by escaped animals, a looming hurricane, and distrustful humans after the Doctor mysteriously vanishes.',\n",
       " 'Before Green Gables': 'The book follows Anne\"s challenging early years, marked by the loss of both her parents before arriving at Green Gables.',\n",
       " 'The Liquidator': 'In 1944 Paris, cowardly Sergeant Boysie Oakes becomes a master assassin in the Secret Service, using a hired killer until he is captured in an assassination plot.',\n",
       " 'Mind the Gap': 'The book follows Jazz, a teenage girl on the run after her mother\"s murder, as she joins a group of runaways in the London Underground and uncovers dark family secrets.'}"
      ]
     },
     "execution_count": 20,
     "metadata": {},
     "output_type": "execute_result"
    }
   ],
   "source": [
    "_Chat_test(ID=3)"
   ]
  },
  {
   "cell_type": "code",
   "execution_count": null,
   "id": "79bf9a83",
   "metadata": {},
   "outputs": [],
   "source": []
  },
  {
   "cell_type": "code",
   "execution_count": null,
   "id": "39da5dd6",
   "metadata": {},
   "outputs": [],
   "source": []
  }
 ],
 "metadata": {
  "kernelspec": {
   "display_name": "Python 3 (ipykernel)",
   "language": "python",
   "name": "python3"
  },
  "language_info": {
   "codemirror_mode": {
    "name": "ipython",
    "version": 3
   },
   "file_extension": ".py",
   "mimetype": "text/x-python",
   "name": "python",
   "nbconvert_exporter": "python",
   "pygments_lexer": "ipython3",
   "version": "3.10.13"
  }
 },
 "nbformat": 4,
 "nbformat_minor": 5
}
