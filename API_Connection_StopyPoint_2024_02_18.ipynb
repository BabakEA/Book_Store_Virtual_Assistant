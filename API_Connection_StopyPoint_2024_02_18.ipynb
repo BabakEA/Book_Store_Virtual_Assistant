{
 "cells": [
  {
   "cell_type": "code",
   "execution_count": 9,
   "id": "326d5b77",
   "metadata": {},
   "outputs": [],
   "source": [
    "import os\n",
    "import json\n",
    "import requests"
   ]
  },
  {
   "cell_type": "code",
   "execution_count": null,
   "id": "aeb57170",
   "metadata": {},
   "outputs": [],
   "source": []
  },
  {
   "cell_type": "code",
   "execution_count": 10,
   "id": "64f17f34",
   "metadata": {},
   "outputs": [],
   "source": [
    "def _Chat_Book_Store_(Query:str, User_ID:str):\n",
    "    url = \"http://127.0.0.1:9900/\"\n",
    "    params = {\"User_ID\":User_ID,\"Question\": Query}\n",
    "    headers = {\"accept\": \"application/json\"}\n",
    "    response = requests.post(f\"{url}Chat\",  params=params,headers=headers)\n",
    "    if response.status_code == 200:\n",
    "        return(\"Response:\", response.json())\n",
    "    else:\n",
    "        return {\"Failed to make request. Status code\": response.status_code,\n",
    "        \"Response:\": response.text}\n",
    "    \n"
   ]
  },
  {
   "cell_type": "code",
   "execution_count": 11,
   "id": "7af325a5",
   "metadata": {},
   "outputs": [],
   "source": [
    "Story_Point=[\"Can you recommend a book on animal farm\",\n",
    "             \"can you tel me more about 'Punk Farm'\",\n",
    "            \"How can I purchase this book?\",\n",
    "             \"That would be great, thanks!\"]"
   ]
  },
  {
   "cell_type": "markdown",
   "id": "e55c8b55",
   "metadata": {},
   "source": [
    "# Q1\n",
    "- Ask tofind some books"
   ]
  },
  {
   "cell_type": "code",
   "execution_count": 12,
   "id": "f48de7ef",
   "metadata": {},
   "outputs": [
    {
     "data": {
      "text/plain": [
       "('Response:',\n",
       " '[\\'Certainly! For beginners, I recommend \"Punk Farm\" by Jarrett Krosoczka. Krosoczka\"s book tells the story of five farm animals—Sheep, Pig, Chicken, Goat, and Cow—who are an underground rock band and perform a punk cover of \"Old MacDonald had a Farm\" while Farmer Joe is asleep.If you\"re looking for something more advanced, \"Mountains Beyond Mountains\" by Tracy Kidder is excellent. The book is written from the point of view of author Tracy Kidder and details Dr. Paul Farmer\"s inspiring life and accomplishments, especially his work with the health and social justice organization Partners in Health.Would you like more information on any of these books?\\']')"
      ]
     },
     "execution_count": 12,
     "metadata": {},
     "output_type": "execute_result"
    }
   ],
   "source": [
    "_Chat_Book_Store_(Query=Story_Point[0], User_ID=\"Babak_EA\")"
   ]
  },
  {
   "cell_type": "markdown",
   "id": "32ff2f14",
   "metadata": {},
   "source": [
    "# Q2\n",
    "- selects a book and ask for more information"
   ]
  },
  {
   "cell_type": "code",
   "execution_count": 13,
   "id": "4f2a6c2c",
   "metadata": {},
   "outputs": [
    {
     "data": {
      "text/plain": [
       "('Response:',\n",
       " \"{'LLM_response': ['Krosoczkas book Punk Farm follows the story of five farm animals who form an underground rock band and perform a punk cover of Old MacDonald had a Farm while Farmer Joe is asleep.'], 'Book_Titles': ['Punk Farm']}\")"
      ]
     },
     "execution_count": 13,
     "metadata": {},
     "output_type": "execute_result"
    }
   ],
   "source": [
    "_Chat_Book_Store_(Query=Story_Point[1], User_ID=\"Babak_EA\")"
   ]
  },
  {
   "cell_type": "markdown",
   "id": "6a4e20b5",
   "metadata": {},
   "source": [
    "# Q3\n",
    "- asking about the purchasing policy and methods"
   ]
  },
  {
   "cell_type": "code",
   "execution_count": 14,
   "id": "68a011fb",
   "metadata": {},
   "outputs": [
    {
     "data": {
      "text/plain": [
       "('Response:',\n",
       " {'Chatbot': \"It was a pleasure working with you 'Babak_EA'. \\n                Is there anything else I can help you with?\\n                By the way, as you liked the 'Punk Farm', \\n                you may also want to take a look at the following masterpieces:\",\n",
       "  'Separation of Power': 'After CIA Director Stansfield\"s death, Senator Clark plots for the Presidency, while Rapp is tasked to stop Saddam\"s nuclear production.',\n",
       "  'The Tale of Tsar Saltan': 'The youngest sister of three is chosen to be Tsar Saltan\"s wife but is betrayed by her jealous sisters, only to be saved by her son and husband.',\n",
       "  'Alive: The Story of the Andes Survivors': 'The book Alive recounts the harrowing tale of the Uruguayan Rugby team\"s fight for survival, including resorting to cannibalism, after their plane crashed in the Andes mountains in 1972, with only 16 out of 45 people surviving.',\n",
       "  'The Sum of Our Discontent': 'From ancient divinity to modern practicality, \"The Bottom Line\" explores the history of counting and the pitfalls of measuring everything in our quest for humanity.',\n",
       "  'Yellow Dog': 'Xan Meo, son of a deceased London gangster, is targeted for mentioning a rival in a book, leading to a series of events involving revenge, betrayal, and a looming comet disaster.'})"
      ]
     },
     "execution_count": 14,
     "metadata": {},
     "output_type": "execute_result"
    }
   ],
   "source": [
    "_Chat_Book_Store_(Query=Story_Point[2], User_ID=\"Babak_EA\")"
   ]
  },
  {
   "cell_type": "markdown",
   "id": "386ce0d7",
   "metadata": {},
   "source": [
    "# Q4\n",
    "- confirming the purchase and end of the discussion\n",
    "- get the recommendation"
   ]
  },
  {
   "cell_type": "code",
   "execution_count": 15,
   "id": "62b2273d",
   "metadata": {},
   "outputs": [
    {
     "data": {
      "text/plain": [
       "('Response:',\n",
       " {'Chatbot': \"It was a pleasure working with you 'Babak_EA'. \\n                Is there anything else I can help you with?\\n                By the way, as you liked the 'Punk Farm', \\n                you may also want to take a look at the following masterpieces:\",\n",
       "  'Resurrection Blues': 'The story follows a captured prisoner in a Latin American country who may be the second coming of Christ, facing crucifixion due to his miraculous abilities.',\n",
       "  'Andamina Jeevitam': 'The document is about living a good life.',\n",
       "  'Is Religion Dangerous?': 'Religion, despite potential for harm, is a positive force in mental health, morality, and society as it inspires compassion and social action.',\n",
       "  'Imperium': 'Kapuściński\"s book details his early encounters with poverty and terror in Soviet-ruled Pińsk, his extensive travels through the Soviet Union, and his reflections on the empire\"s collapse.',\n",
       "  'The Cinder Path': 'In the early 20th Century English countryside, a working-class man faces a cruel father, romantic troubles, a secret burden, and the haunting shadows of his past during his service in the British Army on the Western Front of World War I.'})"
      ]
     },
     "execution_count": 15,
     "metadata": {},
     "output_type": "execute_result"
    }
   ],
   "source": [
    "_Chat_Book_Store_(Query=Story_Point[3], User_ID=\"Babak_EA\")"
   ]
  },
  {
   "cell_type": "code",
   "execution_count": null,
   "id": "b6367853",
   "metadata": {},
   "outputs": [],
   "source": []
  }
 ],
 "metadata": {
  "kernelspec": {
   "display_name": "Python 3 (ipykernel)",
   "language": "python",
   "name": "python3"
  },
  "language_info": {
   "codemirror_mode": {
    "name": "ipython",
    "version": 3
   },
   "file_extension": ".py",
   "mimetype": "text/x-python",
   "name": "python",
   "nbconvert_exporter": "python",
   "pygments_lexer": "ipython3",
   "version": "3.10.13"
  }
 },
 "nbformat": 4,
 "nbformat_minor": 5
}
