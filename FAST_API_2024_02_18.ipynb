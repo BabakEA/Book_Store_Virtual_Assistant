{
 "cells": [
  {
   "cell_type": "code",
   "execution_count": 1,
   "id": "fb002920",
   "metadata": {},
   "outputs": [
    {
     "name": "stderr",
     "output_type": "stream",
     "text": [
      "C:\\Users\\emami\\anaconda3\\envs\\NLP\\lib\\site-packages\\transformers\\utils\\generic.py:441: UserWarning: torch.utils._pytree._register_pytree_node is deprecated. Please use torch.utils._pytree.register_pytree_node instead.\n",
      "  _torch_pytree._register_pytree_node(\n",
      "C:\\Users\\emami\\anaconda3\\envs\\NLP\\lib\\site-packages\\transformers\\utils\\generic.py:309: UserWarning: torch.utils._pytree._register_pytree_node is deprecated. Please use torch.utils._pytree.register_pytree_node instead.\n",
      "  _torch_pytree._register_pytree_node(\n",
      "C:\\Users\\emami\\anaconda3\\envs\\NLP\\lib\\site-packages\\transformers\\utils\\generic.py:309: UserWarning: torch.utils._pytree._register_pytree_node is deprecated. Please use torch.utils._pytree.register_pytree_node instead.\n",
      "  _torch_pytree._register_pytree_node(\n"
     ]
    }
   ],
   "source": [
    "# from fastapi import FastAPI, UploadFile, File, HTTPException, Query,Form\n",
    "from enum import Enum\n",
    "import pandas as pd\n",
    "from pydantic import BaseModel\n",
    "import io\n",
    "import logging\n",
    "from typing import List\n",
    "\n",
    "from fastapi import FastAPI, UploadFile, File, HTTPException, Query, Form, Cookie, Depends\n",
    "from fastapi.responses import HTMLResponse, RedirectResponse\n",
    "from fastapi.staticfiles import StaticFiles\n",
    "from fastapi.responses import JSONResponse\n",
    "\n",
    "from fastapi import FastAPI, HTTPException\n",
    "from pydantic import BaseModel\n",
    "\n",
    "from Witcher.Book_Store import *"
   ]
  },
  {
   "cell_type": "code",
   "execution_count": 2,
   "id": "22a0f7d1",
   "metadata": {},
   "outputs": [],
   "source": [
    "\n",
    "Data_base=Data_Base()\n",
    "Data_base._create_database_()\n",
    "Chatbot=Vector_Dataset_Generation(Path=\"./Data/booksummaries.txt\",Local_Data=\"./Chroma_new/\",Log_Databse=Data_base)"
   ]
  },
  {
   "cell_type": "code",
   "execution_count": 6,
   "id": "cb799f0c",
   "metadata": {},
   "outputs": [],
   "source": [
    "\n",
    "from fastapi import FastAPI, HTTPException\n",
    "from pydantic import BaseModel\n",
    "\n",
    "app = FastAPI()\n",
    "\n",
    "# Route for uploading CSV files and API key\n",
    "@app.post(\"/Chat/\")\n",
    "async def Data_Registery(\n",
    "    User_ID: str = Query(..., description=\"Enter Your ID Please\"),\n",
    "    Question: str = Query(..., description=\"User Questions \"),):\n",
    "    #Method: MethodEnum = Form(..., description=\"Choose between QA and Summary\"),\n",
    "    #Temp_Sumeriser: Sumeriser_select = Form(..., description=\"Choose between T5 ,Biobert,OPEN_AI,Pegasus\"),\n",
    "    # Process the user question\n",
    "    result = Chatbot._Call_(Question=Question,User_ID=User_ID)\n",
    "    return result\n",
    "@app.post(\"/user_serach/\")\n",
    "async def user_search(\n",
    "    User_ID: str = Query(..., description=\"Enter Your ID Please\")):\n",
    "    \n",
    "    result=Chatbot.Log_Database.get_user_info(User_ID)\n",
    "\n",
    "    return result\n",
    "    \n",
    "@app.post(\"/user_registry/\")\n",
    "async def user_registry(\n",
    "    User_ID: str = Query(..., description=\"Enter Your ID Please\"),\n",
    "    email_address: str = Query(..., description=\"Your Email Please\"),\n",
    "    user_phone: str = Query(..., description=\"Your valid Phone number please \")):\n",
    "    \n",
    "    result=Chatbot.Log_Database.insert_user(User_ID,email_address,user_phone)\n",
    "\n",
    "    return result\n",
    "    \n",
    "@app.post(\"/user_info/\")\n",
    "async def user_registry(\n",
    "    User_ID: str = Query(..., description=\"Enter Your ID Please\")):\n",
    "\n",
    "    result=Chatbot.Log_Database.get_search_hist(User_ID)\n",
    "\n",
    "    return result\n",
    "\n",
    "@app.post(\"/Genres_Recommender/\")\n",
    "async def user_Genre_Recommender(\n",
    "    User_ID: str = Query(..., description=\"Enter Your ID Please\")):\n",
    "\n",
    "    result=Chatbot.Recommender_Grnre(User_ID)\n",
    "\n",
    "    return result\n",
    "\n",
    "\n",
    "\n"
   ]
  },
  {
   "cell_type": "code",
   "execution_count": null,
   "id": "39153c08",
   "metadata": {},
   "outputs": [
    {
     "name": "stderr",
     "output_type": "stream",
     "text": [
      "INFO:     Started server process [32192]\n",
      "INFO:     Waiting for application startup.\n",
      "INFO:     Application startup complete.\n",
      "INFO:     Uvicorn running on http://127.0.0.1:9900 (Press CTRL+C to quit)\n"
     ]
    },
    {
     "name": "stdout",
     "output_type": "stream",
     "text": [
      "INFO:     127.0.0.1:50192 - \"POST /Chat?User_ID=Babak_EA&Question=Can+you+recommend+a+book+on+animal+farm HTTP/1.1\" 307 Temporary Redirect\n",
      "INFO:     127.0.0.1:50192 - \"POST /Chat/?User_ID=Babak_EA&Question=Can+you+recommend+a+book+on+animal+farm HTTP/1.1\" 200 OK\n",
      "INFO:     127.0.0.1:50198 - \"POST /Chat?User_ID=Babak_EA&Question=can+you+tel+me+more+about+%27Punk+Farm%27 HTTP/1.1\" 307 Temporary Redirect\n",
      "INFO:     127.0.0.1:50198 - \"POST /Chat/?User_ID=Babak_EA&Question=can+you+tel+me+more+about+%27Punk+Farm%27 HTTP/1.1\" 200 OK\n",
      "INFO:     127.0.0.1:50209 - \"POST /Chat?User_ID=Babak_EA&Question=How+can+I+purchase+this+book%3F HTTP/1.1\" 307 Temporary Redirect\n",
      "INFO:     127.0.0.1:50209 - \"POST /Chat/?User_ID=Babak_EA&Question=How+can+I+purchase+this+book%3F HTTP/1.1\" 200 OK\n",
      "INFO:     127.0.0.1:50229 - \"POST /Chat?User_ID=Babak_EA&Question=That+would+be+great%2C+thanks%21 HTTP/1.1\" 307 Temporary Redirect\n",
      "INFO:     127.0.0.1:50229 - \"POST /Chat/?User_ID=Babak_EA&Question=That+would+be+great%2C+thanks%21 HTTP/1.1\" 200 OK\n"
     ]
    }
   ],
   "source": [
    "import nest_asyncio\n",
    "import uvicorn\n",
    "nest_asyncio.apply()\n",
    "uvicorn.run(app, port=9900)"
   ]
  },
  {
   "cell_type": "code",
   "execution_count": null,
   "id": "a646bcc5",
   "metadata": {},
   "outputs": [],
   "source": []
  }
 ],
 "metadata": {
  "kernelspec": {
   "display_name": "Python 3 (ipykernel)",
   "language": "python",
   "name": "python3"
  },
  "language_info": {
   "codemirror_mode": {
    "name": "ipython",
    "version": 3
   },
   "file_extension": ".py",
   "mimetype": "text/x-python",
   "name": "python",
   "nbconvert_exporter": "python",
   "pygments_lexer": "ipython3",
   "version": "3.10.13"
  }
 },
 "nbformat": 4,
 "nbformat_minor": 5
}
